{
 "cells": [
  {
   "cell_type": "code",
   "execution_count": 1,
   "id": "86f01b5a",
   "metadata": {},
   "outputs": [],
   "source": [
    "import itertools\n",
    "import pylhe\n",
    "import hist\n",
    "import numpy as np"
   ]
  },
  {
   "cell_type": "code",
   "execution_count": 2,
   "id": "1fc33e5e",
   "metadata": {},
   "outputs": [],
   "source": [
    "import math\n",
    "import hist"
   ]
  },
  {
   "cell_type": "code",
   "execution_count": 3,
   "id": "eb793e99",
   "metadata": {},
   "outputs": [],
   "source": [
    "lhe_file = \"/home/josecasa/Descargas/PP_Wp_BTauNu_M1.lhe.gz\""
   ]
  },
  {
   "cell_type": "code",
   "execution_count": 4,
   "id": "75222be8",
   "metadata": {},
   "outputs": [],
   "source": [
    "events = pylhe.to_awkward(pylhe.read_lhe_with_attributes(lhe_file))"
   ]
  },
  {
   "cell_type": "code",
   "execution_count": 5,
   "id": "65a778a6",
   "metadata": {},
   "outputs": [
    {
     "data": {
      "text/html": [
       "<pre>[{eventinfo: {nparticles: 6, pid: 1, ...}, particles: [...]},\n",
       " {eventinfo: {nparticles: 6, pid: 1, ...}, particles: [...]},\n",
       " {eventinfo: {nparticles: 6, pid: 1, ...}, particles: [...]},\n",
       " {eventinfo: {nparticles: 6, pid: 1, ...}, particles: [...]},\n",
       " {eventinfo: {nparticles: 6, pid: 1, ...}, particles: [...]},\n",
       " {eventinfo: {nparticles: 6, pid: 1, ...}, particles: [...]},\n",
       " {eventinfo: {nparticles: 6, pid: 1, ...}, particles: [...]},\n",
       " {eventinfo: {nparticles: 6, pid: 1, ...}, particles: [...]},\n",
       " {eventinfo: {nparticles: 6, pid: 1, ...}, particles: [...]},\n",
       " {eventinfo: {nparticles: 6, pid: 1, ...}, particles: [...]},\n",
       " ...,\n",
       " {eventinfo: {nparticles: 6, pid: 1, ...}, particles: [...]},\n",
       " {eventinfo: {nparticles: 6, pid: 1, ...}, particles: [...]},\n",
       " {eventinfo: {nparticles: 6, pid: 1, ...}, particles: [...]},\n",
       " {eventinfo: {nparticles: 6, pid: 1, ...}, particles: [...]},\n",
       " {eventinfo: {nparticles: 6, pid: 1, ...}, particles: [...]},\n",
       " {eventinfo: {nparticles: 6, pid: 1, ...}, particles: [...]},\n",
       " {eventinfo: {nparticles: 6, pid: 1, ...}, particles: [...]},\n",
       " {eventinfo: {nparticles: 6, pid: 1, ...}, particles: [...]},\n",
       " {eventinfo: {nparticles: 6, pid: 1, ...}, particles: [...]}]\n",
       "-------------------------------------------------------------\n",
       "type: 100000 * Event[\n",
       "    eventinfo: EventInfo[\n",
       "        nparticles: float64,\n",
       "        pid: float64,\n",
       "        weight: float64,\n",
       "        scale: float64,\n",
       "        aqed: float64,\n",
       "        aqcd: float64\n",
       "    ],\n",
       "    particles: var * Particle[\n",
       "        vector: Momentum4D[\n",
       "            x: float64,\n",
       "            y: float64,\n",
       "            z: float64,\n",
       "            t: float64\n",
       "        ],\n",
       "        id: float64,\n",
       "        status: float64,\n",
       "        mother1: float64,\n",
       "        mother2: float64,\n",
       "        color1: float64,\n",
       "        color2: float64,\n",
       "        m: float64,\n",
       "        lifetime: float64,\n",
       "        spin: float64\n",
       "    ]\n",
       "]</pre>"
      ],
      "text/plain": [
       "<EventArray [{eventinfo: {...}, ...}, ..., {...}] type='100000 * Event[even...'>"
      ]
     },
     "execution_count": 5,
     "metadata": {},
     "output_type": "execute_result"
    }
   ],
   "source": [
    "events"
   ]
  },
  {
   "cell_type": "code",
   "execution_count": 6,
   "id": "972de87f",
   "metadata": {},
   "outputs": [
    {
     "name": "stdout",
     "output_type": "stream",
     "text": [
      "Number of events: 100000\n"
     ]
    }
   ],
   "source": [
    "print(f\"Number of events: {pylhe.read_num_events(lhe_file)}\")"
   ]
  },
  {
   "cell_type": "code",
   "execution_count": 7,
   "id": "1cc52dbc",
   "metadata": {},
   "outputs": [
    {
     "data": {
      "text/html": [
       "<pre>[[False, False, False, True, True, True],\n",
       " [False, False, False, True, True, True],\n",
       " [False, False, False, True, True, True],\n",
       " [False, False, False, True, True, True],\n",
       " [False, False, False, True, True, True],\n",
       " [False, False, False, True, True, True],\n",
       " [False, False, False, True, True, True],\n",
       " [False, False, False, True, True, True],\n",
       " [False, False, False, True, True, True],\n",
       " [False, False, False, True, True, True],\n",
       " ...,\n",
       " [False, False, False, True, True, True],\n",
       " [False, False, False, True, True, True],\n",
       " [False, False, False, True, True, True],\n",
       " [False, False, False, True, True, True],\n",
       " [False, False, False, True, True, True],\n",
       " [False, False, False, True, True, True],\n",
       " [False, False, False, True, True, True],\n",
       " [False, False, False, True, True, True],\n",
       " [False, False, False, True, True, True]]\n",
       "-----------------------------------------\n",
       "type: 100000 * var * bool</pre>"
      ],
      "text/plain": [
       "<Array [[False, False, False, ..., True, True], ...] type='100000 * var * bool'>"
      ]
     },
     "execution_count": 7,
     "metadata": {},
     "output_type": "execute_result"
    }
   ],
   "source": [
    "events.particles.status==1"
   ]
  },
  {
   "cell_type": "code",
   "execution_count": 8,
   "id": "69b4e311",
   "metadata": {},
   "outputs": [
    {
     "data": {
      "text/html": [
       "<pre>[[{x: 0, y: 0, z: 765, t: 765}, ..., {x: 63.4, y: -6.35, z: 305, t: 311}],\n",
       " [{x: -0, y: 0, z: 524, t: 524}, ..., {x: -10.9, y: 5.15, z: -13.9, ...}],\n",
       " [{x: -0, y: 0, z: 254, t: 254}, ..., {x: 57.6, y: 39.2, z: -564, t: 569}],\n",
       " [{x: 0, y: 0, z: 419, t: 419}, ..., {x: -185, y: -83.5, z: 8.65, t: 203}],\n",
       " [{x: 0, y: 0, z: 1.8e+03, t: 1.8e+03}, ..., {x: -1.52, y: 7.84, z: ..., ...}],\n",
       " [{x: 0, y: 0, z: 221, t: 221}, ..., {x: 4.32, y: -37.8, z: 15.9, t: ..., ...}],\n",
       " [{x: -0, y: 0, z: 626, t: 626}, {...}, ..., {x: -4.65, y: 6.26, z: 8.07, ...}],\n",
       " [{x: -0, y: 0, z: 1.85e+03, t: 1.85e+03}, ..., {x: -17.2, y: -4.48, ...}],\n",
       " [{x: -0, y: 0, z: 2.94e+03, t: 2.94e+03}, ..., {x: -33.3, y: -340, ...}],\n",
       " [{x: -0, y: 0, z: 515, t: 515}, ..., {x: 304, y: -453, z: -264, t: 606}],\n",
       " ...,\n",
       " [{x: 0, y: 0, z: 728, t: 728}, ..., {x: 3.65, y: -13.2, z: 263, t: 263}],\n",
       " [{x: 0, y: 0, z: 936, t: 936}, ..., {x: -222, y: -122, z: -198, t: 322}],\n",
       " [{x: 0, y: 0, z: 111, t: 111}, ..., {x: -0.138, y: -2.74, z: 25.6, ...}],\n",
       " [{x: 0, y: 0, z: 408, t: 408}, {...}, ..., {x: 6, y: 17.3, z: 31.4, t: 36.6}],\n",
       " [{x: 0, y: 0, z: 176, t: 176}, ..., {x: 14.1, y: 6.03, z: 19.3, t: 25.1}],\n",
       " [{x: -0, y: 0, z: 306, t: 306}, ..., {x: 0.322, y: 4.83, z: -1.21e+03, ...}],\n",
       " [{x: -0, y: 0, z: 342, t: 342}, ..., {x: 31.9, y: 32.1, z: -786, t: 787}],\n",
       " [{x: 0, y: 0, z: 122, t: 122}, ..., {x: -1.24, y: 1.69, z: 3.26, t: ..., ...}],\n",
       " [{x: 0, y: 0, z: 726, t: 726}, ..., {x: -12.7, y: 1.04, z: 51.4, t: ..., ...}]]\n",
       "--------------------------------------------------------------------------------\n",
       "type: 100000 * var * Momentum4D[\n",
       "    x: float64,\n",
       "    y: float64,\n",
       "    z: float64,\n",
       "    t: float64\n",
       "]</pre>"
      ],
      "text/plain": [
       "<MomentumArray4D [[{x: 0, y: 0, z: 765, ...}, ...], ...] type='100000 * var...'>"
      ]
     },
     "execution_count": 8,
     "metadata": {},
     "output_type": "execute_result"
    }
   ],
   "source": [
    "events.particles.vector"
   ]
  },
  {
   "cell_type": "code",
   "execution_count": 9,
   "id": "4e2da3c3",
   "metadata": {},
   "outputs": [
    {
     "data": {
      "text/plain": [
       "0"
      ]
     },
     "execution_count": 9,
     "metadata": {},
     "output_type": "execute_result"
    }
   ],
   "source": [
    "#Getting index for tau\n",
    "tauind=-3\n",
    "sum(abs(events.particles.id[:, tauind])!=15)"
   ]
  },
  {
   "cell_type": "code",
   "execution_count": 10,
   "id": "29eb8b03",
   "metadata": {},
   "outputs": [
    {
     "data": {
      "text/plain": [
       "0"
      ]
     },
     "execution_count": 10,
     "metadata": {},
     "output_type": "execute_result"
    }
   ],
   "source": [
    "#Getting index for nu\n",
    "nuind=-2\n",
    "sum(abs(events.particles.id[:, nuind])!=16)"
   ]
  },
  {
   "cell_type": "code",
   "execution_count": 11,
   "id": "df9aa344",
   "metadata": {},
   "outputs": [
    {
     "data": {
      "text/plain": [
       "0"
      ]
     },
     "execution_count": 11,
     "metadata": {},
     "output_type": "execute_result"
    }
   ],
   "source": [
    "#Getting index for b\n",
    "bind=-1\n",
    "sum(abs(events.particles.id[:, bind])!=5)"
   ]
  },
  {
   "cell_type": "code",
   "execution_count": 12,
   "id": "de0ac39f",
   "metadata": {},
   "outputs": [
    {
     "data": {
      "text/html": [
       "<html>\n",
       "<div style=\"display:flex; align-items:center;\">\n",
       "<div style=\"width:290px;\">\n",
       "<svg xmlns=\"http://www.w3.org/2000/svg\" viewBox=\"-10 -105 270 120\">\n",
       "<line x1=\"-5\" y1=\"0\" x2=\"255\" y2=\"0\" style=\"fill:none;stroke-width:2;stroke:currentColor\"/>\n",
       "<text text-anchor=\"middle\" x=\"0\" y=\"15\" style=\"fill:currentColor;\">\n",
       "50\n",
       "</text>\n",
       "<text text-anchor=\"middle\" x=\"250\" y=\"15\" style=\"fill:currentColor;\">\n",
       "1e+03\n",
       "</text>\n",
       "<text text-anchor=\"middle\" x=\"125.0\" y=\"15\" style=\"fill:currentColor;\">\n",
       "Axis 0\n",
       "</text>\n",
       "<polyline points=\"  0,0   0,-86.3   5,-86.3   5,-93.1  10,-93.1  10,-96  15,-96  15,-100  20,-100  20,-97.7  25,-97.7  25,-95.6  30,-95.6  30,-94.6  35,-94.6  35,-89.2  40,-89.2  40,-81.2  45,-81.2  45,-78.1  50,-78.1  50,-73.7  55,-73.7  55,-69.6  60,-69.6  60,-64.9  65,-64.9  65,-61.4  70,-61.4  70,-56.5  75,-56.5  75,-54.2  80,-54.2  80,-49.2  85,-49.2  85,-46.7  90,-46.7  90,-41.7  95,-41.7  95,-39.6 100,-39.6 100,-37.2 105,-37.2 105,-34.2 110,-34.2 110,-29.8 115,-29.8 115,-27.7 120,-27.7 120,-26.9 125,-26.9 125,-23.7 130,-23.7 130,-23.2 135,-23.2 135,-20.5 140,-20.5 140,-19.1 145,-19.1 145,-18 150,-18 150,-16.9 155,-16.9 155,-14.7 160,-14.7 160,-13.5 165,-13.5 165,-12.7 170,-12.7 170,-11.1 175,-11.1 175,-11.2 180,-11.2 180,-10.7 185,-10.7 185,-10.3 190,-10.3 190,-7.88 195,-7.88 195,-8.11 200,-8.11 200,-7.29 205,-7.29 205,-6.79 210,-6.79 210,-6.15 215,-6.15 215,-5.43 220,-5.43 220,-4.97 225,-4.97 225,-5.55 230,-5.55 230,-4.73 235,-4.73 235,-4.33 240,-4.33 240,-3.65 245,-3.65 245,-3.94 250,-3.94 250,0\" style=\"fill:none; stroke:currentColor;\"/>\n",
       "</svg>\n",
       "</div>\n",
       "<div style=\"flex=grow:1;\">\n",
       "Regular(50, 50, 1000, label='Axis 0')<br/>\n",
       "<hr style=\"margin-top:.2em; margin-bottom:.2em;\"/>\n",
       "Int64() Σ=92023.0 <em>(100000.0 with flow)</em>\n",
       "\n",
       "</div>\n",
       "</div>\n",
       "</html>"
      ],
      "text/plain": [
       "Hist(Regular(50, 50, 1000, label='Axis 0'), storage=Int64()) # Sum: 92023.0 (100000.0 with flow)"
      ]
     },
     "execution_count": 12,
     "metadata": {},
     "output_type": "execute_result"
    }
   ],
   "source": [
    "#Tau and b Invaraint Mass\n",
    "InvMassbtau = hist.Hist.new.Reg(50, 50, 1000).Int64()\n",
    "InvMassbtau.fill((events.particles.vector[:, bind] + events.particles.vector[:, tauind]).mass)"
   ]
  },
  {
   "cell_type": "code",
   "execution_count": 13,
   "id": "43bc35ab",
   "metadata": {},
   "outputs": [
    {
     "name": "stderr",
     "output_type": "stream",
     "text": [
      "/home/josecasa/.local/lib/python3.10/site-packages/matplotlib/projections/__init__.py:63: UserWarning: Unable to import Axes3D. This may be due to multiple versions of Matplotlib being installed (e.g. as a system package and as a pip package). As a result, the 3D projection is not available.\n",
      "  warnings.warn(\"Unable to import Axes3D. This may be due to multiple versions of \"\n"
     ]
    },
    {
     "data": {
      "image/png": "[encoded data removed]",
      "text/plain": [
       "<Figure size 432x288 with 1 Axes>"
      ]
     },
     "metadata": {
      "needs_background": "light"
     },
     "output_type": "display_data"
    }
   ],
   "source": [
    "artists = InvMassbtau.plot1d()\n",
    "ax = artists[0].stairs.axes\n",
    "#ax.set_yscale(\"log\")\n",
    "ax.set_xlabel(\"Mass [GeV]\")\n",
    "ax.set_ylabel(\"Count\");"
   ]
  },
  {
   "cell_type": "code",
   "execution_count": 14,
   "id": "121db571",
   "metadata": {},
   "outputs": [
    {
     "data": {
      "image/png": "[encoded data removed]",
      "text/plain": [
       "<Figure size 432x288 with 1 Axes>"
      ]
     },
     "metadata": {
      "needs_background": "light"
     },
     "output_type": "display_data"
    }
   ],
   "source": [
    "#Tau pT\n",
    "TauPT = hist.Hist.new.Reg(50, 0, 1000).Int64()\n",
    "TauPT.fill((events.particles.vector[:, tauind]).pt)\n",
    "TauPTart = TauPT.plot1d()\n",
    "TauPTax = TauPTart[0].stairs.axes\n",
    "#ax.set_yscale(\"log\")\n",
    "TauPTax.set_xlabel(\"pT(tau) [GeV]\")\n",
    "TauPTax.set_ylabel(\"Count\");"
   ]
  },
  {
   "cell_type": "markdown",
   "id": "28f94948",
   "metadata": {},
   "source": [
    "For the transverse mass"
   ]
  },
  {
   "cell_type": "code",
   "execution_count": 28,
   "id": "855fb951",
   "metadata": {},
   "outputs": [],
   "source": [
    "tauvecs = events.particles.vector[:, tauind]"
   ]
  },
  {
   "cell_type": "code",
   "execution_count": 29,
   "id": "64534436",
   "metadata": {},
   "outputs": [],
   "source": [
    "tauvecs.deltaphi?"
   ]
  },
  {
   "cell_type": "code",
   "execution_count": 25,
   "id": "6707ff4f",
   "metadata": {},
   "outputs": [
    {
     "name": "stdout",
     "output_type": "stream",
     "text": [
      "[-3.04, 3.12, 3.03, -2.42, -3.12, 3.06, ..., -3.12, -3.14, -3.05, 3.14, -3.12]\n"
     ]
    }
   ],
   "source": [
    "DeltaPhi=events.particles.vector[:, tauind].deltaphi(events.particles.vector[:, nuind])\n",
    "print(DeltaPhi)"
   ]
  },
  {
   "cell_type": "code",
   "execution_count": 33,
   "id": "424166ae",
   "metadata": {},
   "outputs": [
    {
     "data": {
      "text/html": [
       "<html>\n",
       "<div style=\"display:flex; align-items:center;\">\n",
       "<div style=\"width:290px;\">\n",
       "<svg xmlns=\"http://www.w3.org/2000/svg\" viewBox=\"-10 -105 270 120\">\n",
       "<line x1=\"-5\" y1=\"0\" x2=\"255\" y2=\"0\" style=\"fill:none;stroke-width:2;stroke:currentColor\"/>\n",
       "<text text-anchor=\"middle\" x=\"0\" y=\"15\" style=\"fill:currentColor;\">\n",
       "0\n",
       "</text>\n",
       "<text text-anchor=\"middle\" x=\"250\" y=\"15\" style=\"fill:currentColor;\">\n",
       "6.3\n",
       "</text>\n",
       "<text text-anchor=\"middle\" x=\"125.0\" y=\"15\" style=\"fill:currentColor;\">\n",
       "Axis 0\n",
       "</text>\n",
       "<polyline points=\"  0,0   0,-100 2.5,-100 2.5,-25.1   5,-25.1   5,-13.1 7.5,-13.1 7.5,-8.38  10,-8.38  10,-5.82 12.5,-5.82 12.5,-4.42  15,-4.42  15,-3.25 17.5,-3.25 17.5,-2.39  20,-2.39  20,-1.98 22.5,-1.98 22.5,-1.59  25,-1.59  25,-1.26 27.5,-1.26 27.5,-1.13  30,-1.13  30,-0.795 32.5,-0.795 32.5,-0.724  35,-0.724  35,-0.598 37.5,-0.598 37.5,-0.524  40,-0.524  40,-0.499 42.5,-0.499 42.5,-0.415  45,-0.415  45,-0.373 47.5,-0.373 47.5,-0.415  50,-0.415  50,-0.278 52.5,-0.278 52.5,-0.281  55,-0.281  55,-0.222 57.5,-0.222 57.5,-0.176  60,-0.176  60,-0.165 62.5,-0.165 62.5,-0.19  65,-0.19  65,-0.158 67.5,-0.158 67.5,-0.148  70,-0.148  70,-0.127 72.5,-0.127 72.5,-0.0949  75,-0.0949  75,-0.123 77.5,-0.123 77.5,-0.0914  80,-0.0914  80,-0.0774 82.5,-0.0774 82.5,-0.0563  85,-0.0563  85,-0.0703 87.5,-0.0703 87.5,-0.0563  90,-0.0563  90,-0.0633 92.5,-0.0633 92.5,-0.0563  95,-0.0563  95,-0.0527 97.5,-0.0527 97.5,-0.0633 100,-0.0633 100,-0.0352 102.5,-0.0352 102.5,-0.0668 105,-0.0668 105,-0.0422 107.5,-0.0422 107.5,-0.0352 110,-0.0352 110,-0.0387 112.5,-0.0387 112.5,-0.0316 115,-0.0316 115,-0.0527 117.5,-0.0527 117.5,-0.0527 120,-0.0527 120,-0.0563 122.5,-0.0563 122.5,-0.0598 125,-0.0598 125,-0.0352 127.5,-0.0352 127.5,-0.0598 130,-0.0598 130,-0.0281 132.5,-0.0281 132.5,-0.0492 135,-0.0492 135,-0.0633 137.5,-0.0633 137.5,-0.0457 140,-0.0457 140,-0.0703 142.5,-0.0703 142.5,-0.0457 145,-0.0457 145,-0.0598 147.5,-0.0598 147.5,-0.0598 150,-0.0598 150,-0.0774 152.5,-0.0774 152.5,-0.0809 155,-0.0809 155,-0.0633 157.5,-0.0633 157.5,-0.0844 160,-0.0844 160,-0.0422 162.5,-0.0422 162.5,-0.0844 165,-0.0844 165,-0.105 167.5,-0.105 167.5,-0.0879 170,-0.0879 170,-0.0668 172.5,-0.0668 172.5,-0.105 175,-0.105 175,-0.109 177.5,-0.109 177.5,-0.12 180,-0.12 180,-0.109 182.5,-0.109 182.5,-0.158 185,-0.158 185,-0.179 187.5,-0.179 187.5,-0.176 190,-0.176 190,-0.2 192.5,-0.2 192.5,-0.2 195,-0.2 195,-0.309 197.5,-0.309 197.5,-0.246 200,-0.246 200,-0.295 202.5,-0.295 202.5,-0.341 205,-0.341 205,-0.387 207.5,-0.387 207.5,-0.429 210,-0.429 210,-0.545 212.5,-0.545 212.5,-0.647 215,-0.647 215,-0.774 217.5,-0.774 217.5,-0.935 220,-0.935 220,-1.17 222.5,-1.17 222.5,-1.48 225,-1.48 225,-1.71 227.5,-1.71 227.5,-1.96 230,-1.96 230,-2.59 232.5,-2.59 232.5,-3.24 235,-3.24 235,-4.65 237.5,-4.65 237.5,-6.3 240,-6.3 240,-9.37 242.5,-9.37 242.5,-15.6 245,-15.6 245,-32.5 247.5,-32.5 247.5,-87.9 250,-87.9 250,0\" style=\"fill:none; stroke:currentColor;\"/>\n",
       "</svg>\n",
       "</div>\n",
       "<div style=\"flex=grow:1;\">\n",
       "Regular(100, 0, 6.3, label='Axis 0')<br/>\n",
       "<hr style=\"margin-top:.2em; margin-bottom:.2em;\"/>\n",
       "Int64() Σ=100000.0\n",
       "\n",
       "</div>\n",
       "</div>\n",
       "</html>"
      ],
      "text/plain": [
       "Hist(Regular(100, 0, 6.3, label='Axis 0'), storage=Int64()) # Sum: 100000.0"
      ]
     },
     "execution_count": 33,
     "metadata": {},
     "output_type": "execute_result"
    }
   ],
   "source": [
    "deltaphihisto = hist.Hist.new.Reg(100, 0, 6.3).Int64()\n",
    "deltaphihisto.fill(DeltaPhi+np.pi)"
   ]
  },
  {
   "cell_type": "code",
   "execution_count": 34,
   "id": "7233d80e",
   "metadata": {},
   "outputs": [
    {
     "data": {
      "text/html": [
       "<pre>[0.995,\n",
       " 1,\n",
       " 0.993,\n",
       " 0.751,\n",
       " 1,\n",
       " 0.997,\n",
       " 0.996,\n",
       " 0.999,\n",
       " 0.84,\n",
       " 0.597,\n",
       " ...,\n",
       " 1,\n",
       " 0.455,\n",
       " 1,\n",
       " 0.995,\n",
       " 1,\n",
       " 1,\n",
       " 0.996,\n",
       " 1,\n",
       " 1]\n",
       "----------------------\n",
       "type: 100000 * float64</pre>"
      ],
      "text/plain": [
       "<Array [0.995, 1, 0.993, 0.751, 1, ..., 1, 0.996, 1, 1] type='100000 * float64'>"
      ]
     },
     "execution_count": 34,
     "metadata": {},
     "output_type": "execute_result"
    }
   ],
   "source": [
    "np.cos(DeltaPhi+np.pi)"
   ]
  },
  {
   "cell_type": "code",
   "execution_count": 60,
   "id": "c043977c",
   "metadata": {},
   "outputs": [
    {
     "name": "stdout",
     "output_type": "stream",
     "text": [
      "[41.2, 10, 57.4, 196, 5.15, 34.6, ..., 8.46, 11.5, 0.184, 37.5, 1.14, 11.4]\n"
     ]
    }
   ],
   "source": [
    "mts=np.sqrt((2*(events.particles.vector[:, tauind]).pt*(events.particles.vector[:, nuind]).pt)*(1-np.cos(DeltaPhi+np.pi)))\n",
    "print(mts)"
   ]
  },
  {
   "cell_type": "code",
   "execution_count": 61,
   "id": "bbd8463a",
   "metadata": {},
   "outputs": [
    {
     "data": {
      "text/html": [
       "<html>\n",
       "<div style=\"display:flex; align-items:center;\">\n",
       "<div style=\"width:290px;\">\n",
       "<svg xmlns=\"http://www.w3.org/2000/svg\" viewBox=\"-10 -105 270 120\">\n",
       "<line x1=\"-5\" y1=\"0\" x2=\"255\" y2=\"0\" style=\"fill:none;stroke-width:2;stroke:currentColor\"/>\n",
       "<text text-anchor=\"middle\" x=\"0\" y=\"15\" style=\"fill:currentColor;\">\n",
       "0\n",
       "</text>\n",
       "<text text-anchor=\"middle\" x=\"250\" y=\"15\" style=\"fill:currentColor;\">\n",
       "2e+03\n",
       "</text>\n",
       "<text text-anchor=\"middle\" x=\"125.0\" y=\"15\" style=\"fill:currentColor;\">\n",
       "Axis 0\n",
       "</text>\n",
       "<polyline points=\"  0,0   0,-100 1.25,-100 1.25,-34.8 2.5,-34.8 2.5,-19.4 3.75,-19.4 3.75,-12.5   5,-12.5   5,-8.93 6.25,-8.93 6.25,-6.95 7.5,-6.95 7.5,-5.52 8.75,-5.52 8.75,-4.29  10,-4.29  10,-3.59 11.25,-3.59 11.25,-2.9 12.5,-2.9 12.5,-2.57 13.75,-2.57 13.75,-2.15  15,-2.15  15,-1.89 16.25,-1.89 16.25,-1.58 17.5,-1.58 17.5,-1.45 18.75,-1.45 18.75,-1.39  20,-1.39  20,-1.1 21.25,-1.1 21.25,-1.1 22.5,-1.1 22.5,-0.884 23.75,-0.884 23.75,-0.862  25,-0.862  25,-0.675 26.25,-0.675 26.25,-0.679 27.5,-0.679 27.5,-0.539 28.75,-0.539 28.75,-0.539  30,-0.539  30,-0.559 31.25,-0.559 31.25,-0.494 32.5,-0.494 32.5,-0.421 33.75,-0.421 33.75,-0.383  35,-0.383  35,-0.352 36.25,-0.352 36.25,-0.314 37.5,-0.314 37.5,-0.294 38.75,-0.294 38.75,-0.258  40,-0.258  40,-0.247 41.25,-0.247 41.25,-0.232 42.5,-0.232 42.5,-0.196 43.75,-0.196 43.75,-0.172  45,-0.172  45,-0.176 46.25,-0.176 46.25,-0.154 47.5,-0.154 47.5,-0.167 48.75,-0.167 48.75,-0.123  50,-0.123  50,-0.134 51.25,-0.134 51.25,-0.131 52.5,-0.131 52.5,-0.1 53.75,-0.1 53.75,-0.0846  55,-0.0846  55,-0.109 56.25,-0.109 56.25,-0.0824 57.5,-0.0824 57.5,-0.0691 58.75,-0.0691 58.75,-0.0668  60,-0.0668  60,-0.0579 61.25,-0.0579 61.25,-0.0735 62.5,-0.0735 62.5,-0.0579 63.75,-0.0579 63.75,-0.0601  65,-0.0601  65,-0.0445 66.25,-0.0445 66.25,-0.0579 67.5,-0.0579 67.5,-0.0646 68.75,-0.0646 68.75,-0.0557  70,-0.0557  70,-0.0379 71.25,-0.0379 71.25,-0.0334 72.5,-0.0334 72.5,-0.0334 73.75,-0.0334 73.75,-0.0423  75,-0.0423  75,-0.0267 76.25,-0.0267 76.25,-0.0245 77.5,-0.0245 77.5,-0.0223 78.75,-0.0223 78.75,-0.0401  80,-0.0401  80,-0.0245 81.25,-0.0245 81.25,-0.0334 82.5,-0.0334 82.5,-0.0223 83.75,-0.0223 83.75,-0.02  85,-0.02  85,-0.0401 86.25,-0.0401 86.25,-0.0156 87.5,-0.0156 87.5,-0.0156 88.75,-0.0156 88.75,-0.0267  90,-0.0267  90,-0.00668 91.25,-0.00668 91.25,-0.0134 92.5,-0.0134 92.5,-0.0156 93.75,-0.0156 93.75,-0.0134  95,-0.0134  95,-0.00891 96.25,-0.00891 96.25,-0.0178 97.5,-0.0178 97.5,-0.00668 98.75,-0.00668 98.75,-0.0156 100,-0.0156 100,-0.0111 101.25,-0.0111 101.25,-0.0111 102.5,-0.0111 102.5,-0.00668 103.75,-0.00668 103.75,-0.00445 105,-0.00445 105,-0.00445 106.25,-0.00445 106.25,-0.00891 107.5,-0.00891 107.5,-0.00445 108.75,-0.00445 108.75,-0.00668 110,-0.00668 110,-0.00668 111.25,-0.00668 111.25,-0.00445 112.5,-0.00445 112.5,-0.00445 113.75,-0.00445 113.75,-0.00223 115,-0.00223 115,-0.00223 116.25,-0.00223 116.25,-0.00668 117.5,-0.00668 117.5,-0 118.75,-0 118.75,-0.00223 120,-0.00223 120,-0.00223 121.25,-0.00223 121.25,-0.00445 122.5,-0.00445 122.5,-0 123.75,-0 123.75,-0.00223 125,-0.00223 125,-0.00445 126.25,-0.00445 126.25,-0.00223 127.5,-0.00223 127.5,-0 128.75,-0 128.75,-0.00223 130,-0.00223 130,-0.00223 131.25,-0.00223 131.25,-0.00223 132.5,-0.00223 132.5,-0 133.75,-0 133.75,-0 135,-0 135,-0.00223 136.25,-0.00223 136.25,-0.00445 137.5,-0.00445 137.5,-0 138.75,-0 138.75,-0 140,-0 140,-0 141.25,-0 141.25,-0.00223 142.5,-0.00223 142.5,-0 143.75,-0 143.75,-0 145,-0 145,-0 146.25,-0 146.25,-0 147.5,-0 147.5,-0 148.75,-0 148.75,-0.00223 150,-0.00223 150,-0 151.25,-0 151.25,-0 152.5,-0 152.5,-0.00223 153.75,-0.00223 153.75,-0.00223 155,-0.00223 155,-0 156.25,-0 156.25,-0 157.5,-0 157.5,-0 158.75,-0 158.75,-0 160,-0 160,-0.00223 161.25,-0.00223 161.25,-0 162.5,-0 162.5,-0 163.75,-0 163.75,-0 165,-0 165,-0 166.25,-0 166.25,-0 167.5,-0 167.5,-0.00223 168.75,-0.00223 168.75,-0 170,-0 170,-0 171.25,-0 171.25,-0 172.5,-0 172.5,-0 173.75,-0 173.75,-0 175,-0 175,-0 176.25,-0 176.25,-0 177.5,-0 177.5,-0 178.75,-0 178.75,-0 180,-0 180,-0 181.25,-0 181.25,-0 182.5,-0 182.5,-0 183.75,-0 183.75,-0 185,-0 185,-0 186.25,-0 186.25,-0 187.5,-0 187.5,-0 188.75,-0 188.75,-0 190,-0 190,-0 191.25,-0 191.25,-0 192.5,-0 192.5,-0 193.75,-0 193.75,-0 195,-0 195,-0 196.25,-0 196.25,-0 197.5,-0 197.5,-0 198.75,-0 198.75,-0 200,-0 200,-0 201.25,-0 201.25,-0 202.5,-0 202.5,-0 203.75,-0 203.75,-0 205,-0 205,-0 206.25,-0 206.25,-0 207.5,-0 207.5,-0 208.75,-0 208.75,-0 210,-0 210,-0 211.25,-0 211.25,-0 212.5,-0 212.5,-0 213.75,-0 213.75,-0 215,-0 215,-0 216.25,-0 216.25,-0 217.5,-0 217.5,-0 218.75,-0 218.75,-0 220,-0 220,-0 221.25,-0 221.25,-0 222.5,-0 222.5,-0 223.75,-0 223.75,-0 225,-0 225,-0 226.25,-0 226.25,-0 227.5,-0 227.5,-0 228.75,-0 228.75,-0 230,-0 230,-0 231.25,-0 231.25,-0 232.5,-0 232.5,-0 233.75,-0 233.75,-0 235,-0 235,-0 236.25,-0 236.25,-0 237.5,-0 237.5,-0 238.75,-0 238.75,-0 240,-0 240,-0 241.25,-0 241.25,-0 242.5,-0 242.5,-0 243.75,-0 243.75,-0 245,-0 245,-0 246.25,-0 246.25,-0 247.5,-0 247.5,-0 248.75,-0 248.75,-0 250,-0 250,0\" style=\"fill:none; stroke:currentColor;\"/>\n",
       "</svg>\n",
       "</div>\n",
       "<div style=\"flex=grow:1;\">\n",
       "Regular(200, 0, 2000, label='Axis 0')<br/>\n",
       "<hr style=\"margin-top:.2em; margin-bottom:.2em;\"/>\n",
       "Int64() Σ=100000.0\n",
       "\n",
       "</div>\n",
       "</div>\n",
       "</html>"
      ],
      "text/plain": [
       "Hist(Regular(200, 0, 2000, label='Axis 0'), storage=Int64()) # Sum: 100000.0"
      ]
     },
     "execution_count": 61,
     "metadata": {},
     "output_type": "execute_result"
    }
   ],
   "source": [
    "mthisto = hist.Hist.new.Reg(200, 0, 2000).Int64()\n",
    "mthisto.fill(mts)"
   ]
  },
  {
   "cell_type": "markdown",
   "id": "bbd34c3b",
   "metadata": {},
   "source": [
    "For the total mass"
   ]
  },
  {
   "cell_type": "code",
   "execution_count": 46,
   "id": "34a366ab",
   "metadata": {},
   "outputs": [],
   "source": [
    "nuvecs = events.particles.vector[:, nuind]"
   ]
  },
  {
   "cell_type": "code",
   "execution_count": 38,
   "id": "53c3c436",
   "metadata": {},
   "outputs": [],
   "source": [
    "bquark = events.particles.vector[:, bind]"
   ]
  },
  {
   "cell_type": "code",
   "execution_count": 47,
   "id": "e1e9ecf7",
   "metadata": {},
   "outputs": [],
   "source": [
    "FirstTerm=np.square(tauvecs.pt+bquark.pt+nuvecs.pt)\n",
    "SeconmTerm=np.square((tauvecs+bquark+nuvecs).pt)"
   ]
  },
  {
   "cell_type": "code",
   "execution_count": 48,
   "id": "e8e5a05e",
   "metadata": {},
   "outputs": [
    {
     "data": {
      "text/html": [
       "<html>\n",
       "<div style=\"display:flex; align-items:center;\">\n",
       "<div style=\"width:290px;\">\n",
       "<svg xmlns=\"http://www.w3.org/2000/svg\" viewBox=\"-10 -105 270 120\">\n",
       "<line x1=\"-5\" y1=\"0\" x2=\"255\" y2=\"0\" style=\"fill:none;stroke-width:2;stroke:currentColor\"/>\n",
       "<text text-anchor=\"middle\" x=\"0\" y=\"15\" style=\"fill:currentColor;\">\n",
       "0\n",
       "</text>\n",
       "<text text-anchor=\"middle\" x=\"250\" y=\"15\" style=\"fill:currentColor;\">\n",
       "2e+03\n",
       "</text>\n",
       "<text text-anchor=\"middle\" x=\"125.0\" y=\"15\" style=\"fill:currentColor;\">\n",
       "Axis 0\n",
       "</text>\n",
       "<polyline points=\"  0,0   0,-0 1.25,-0 1.25,-0 2.5,-0 2.5,-4.97 3.75,-4.97 3.75,-13.6   5,-13.6   5,-17.2 6.25,-17.2 6.25,-19.4 7.5,-19.4 7.5,-20.1 8.75,-20.1 8.75,-20.6  10,-20.6  10,-26.5 11.25,-26.5 11.25,-25.1 12.5,-25.1 12.5,-22.4 13.75,-22.4 13.75,-24.9  15,-24.9  15,-25.6 16.25,-25.6 16.25,-26.1 17.5,-26.1 17.5,-26 18.75,-26 18.75,-24.3  20,-24.3  20,-25.5 21.25,-25.5 21.25,-25.2 22.5,-25.2 22.5,-24 23.75,-24 23.75,-24.2  25,-24.2  25,-25 26.25,-25 26.25,-26.6 27.5,-26.6 27.5,-24.9 28.75,-24.9 28.75,-25.9  30,-25.9  30,-25.2 31.25,-25.2 31.25,-25.2 32.5,-25.2 32.5,-26.4 33.75,-26.4 33.75,-27.4  35,-27.4  35,-24.8 36.25,-24.8 36.25,-27.3 37.5,-27.3 37.5,-28.2 38.75,-28.2 38.75,-28.1  40,-28.1  40,-29.5 41.25,-29.5 41.25,-30.5 42.5,-30.5 42.5,-30.2 43.75,-30.2 43.75,-30.2  45,-30.2  45,-30.3 46.25,-30.3 46.25,-28.5 47.5,-28.5 47.5,-31.3 48.75,-31.3 48.75,-30.3  50,-30.3  50,-33.2 51.25,-33.2 51.25,-31.8 52.5,-31.8 52.5,-33 53.75,-33 53.75,-32.9  55,-32.9  55,-32.8 56.25,-32.8 56.25,-35.8 57.5,-35.8 57.5,-35.6 58.75,-35.6 58.75,-34.6  60,-34.6  60,-36.5 61.25,-36.5 61.25,-33.6 62.5,-33.6 62.5,-37.9 63.75,-37.9 63.75,-38.8  65,-38.8  65,-37.4 66.25,-37.4 66.25,-38.3 67.5,-38.3 67.5,-41.8 68.75,-41.8 68.75,-38.9  70,-38.9  70,-38.1 71.25,-38.1 71.25,-39.1 72.5,-39.1 72.5,-41 73.75,-41 73.75,-40.9  75,-40.9  75,-40.7 76.25,-40.7 76.25,-39.7 77.5,-39.7 77.5,-43.9 78.75,-43.9 78.75,-47.3  80,-47.3  80,-45.1 81.25,-45.1 81.25,-45.8 82.5,-45.8 82.5,-46.9 83.75,-46.9 83.75,-48.1  85,-48.1  85,-48.1 86.25,-48.1 86.25,-48.1 87.5,-48.1 87.5,-48 88.75,-48 88.75,-51.8  90,-51.8  90,-50 91.25,-50 91.25,-53.8 92.5,-53.8 92.5,-50.9 93.75,-50.9 93.75,-55.9  95,-55.9  95,-52.4 96.25,-52.4 96.25,-55.2 97.5,-55.2 97.5,-53.9 98.75,-53.9 98.75,-56.3 100,-56.3 100,-57.1 101.25,-57.1 101.25,-57.8 102.5,-57.8 102.5,-61 103.75,-61 103.75,-61.2 105,-61.2 105,-64.9 106.25,-64.9 106.25,-65.1 107.5,-65.1 107.5,-61.7 108.75,-61.7 108.75,-64.6 110,-64.6 110,-68.2 111.25,-68.2 111.25,-67.6 112.5,-67.6 112.5,-68.6 113.75,-68.6 113.75,-72.4 115,-72.4 115,-73.2 116.25,-73.2 116.25,-78.1 117.5,-78.1 117.5,-78.2 118.75,-78.2 118.75,-90.9 120,-90.9 120,-89.2 121.25,-89.2 121.25,-97.3 122.5,-97.3 122.5,-96.1 123.75,-96.1 123.75,-100 125,-100 125,-96.3 126.25,-96.3 126.25,-86.5 127.5,-86.5 127.5,-74.4 128.75,-74.4 128.75,-65.1 130,-65.1 130,-54.7 131.25,-54.7 131.25,-51.7 132.5,-51.7 132.5,-42.3 133.75,-42.3 133.75,-37.8 135,-37.8 135,-34.6 136.25,-34.6 136.25,-30.7 137.5,-30.7 137.5,-25 138.75,-25 138.75,-26.5 140,-26.5 140,-22.3 141.25,-22.3 141.25,-18.9 142.5,-18.9 142.5,-19.9 143.75,-19.9 143.75,-18.2 145,-18.2 145,-17.4 146.25,-17.4 146.25,-16 147.5,-16 147.5,-13.4 148.75,-13.4 148.75,-12.3 150,-12.3 150,-10.9 151.25,-10.9 151.25,-10.7 152.5,-10.7 152.5,-10.5 153.75,-10.5 153.75,-10.9 155,-10.9 155,-8.09 156.25,-8.09 156.25,-8.14 157.5,-8.14 157.5,-8.55 158.75,-8.55 158.75,-6.71 160,-6.71 160,-6.86 161.25,-6.86 161.25,-7.53 162.5,-7.53 162.5,-6.2 163.75,-6.2 163.75,-4.81 165,-4.81 165,-5.43 166.25,-5.43 166.25,-5.12 167.5,-5.12 167.5,-4.81 168.75,-4.81 168.75,-4.45 170,-4.45 170,-4.76 171.25,-4.76 171.25,-4.15 172.5,-4.15 172.5,-3.58 173.75,-3.58 173.75,-3.99 175,-3.99 175,-2.87 176.25,-2.87 176.25,-3.28 177.5,-3.28 177.5,-3.58 178.75,-3.58 178.75,-3.53 180,-3.53 180,-3.33 181.25,-3.33 181.25,-2.92 182.5,-2.92 182.5,-2.61 183.75,-2.61 183.75,-2.41 185,-2.41 185,-2.51 186.25,-2.51 186.25,-2.05 187.5,-2.05 187.5,-2.2 188.75,-2.2 188.75,-2.1 190,-2.1 190,-2.1 191.25,-2.1 191.25,-2.2 192.5,-2.2 192.5,-2.2 193.75,-2.2 193.75,-1.74 195,-1.74 195,-1.38 196.25,-1.38 196.25,-1.95 197.5,-1.95 197.5,-1.18 198.75,-1.18 198.75,-0.87 200,-0.87 200,-1.13 201.25,-1.13 201.25,-1.74 202.5,-1.74 202.5,-0.87 203.75,-0.87 203.75,-1.28 205,-1.28 205,-1.18 206.25,-1.18 206.25,-1.08 207.5,-1.08 207.5,-1.08 208.75,-1.08 208.75,-0.819 210,-0.819 210,-1.02 211.25,-1.02 211.25,-0.717 212.5,-0.717 212.5,-0.768 213.75,-0.768 213.75,-0.768 215,-0.768 215,-0.973 216.25,-0.973 216.25,-0.614 217.5,-0.614 217.5,-0.666 218.75,-0.666 218.75,-0.614 220,-0.614 220,-0.512 221.25,-0.512 221.25,-0.717 222.5,-0.717 222.5,-0.666 223.75,-0.666 223.75,-0.614 225,-0.614 225,-0.358 226.25,-0.358 226.25,-0.307 227.5,-0.307 227.5,-0.768 228.75,-0.768 228.75,-0.461 230,-0.461 230,-0.461 231.25,-0.461 231.25,-0.461 232.5,-0.461 232.5,-0.461 233.75,-0.461 233.75,-0.563 235,-0.563 235,-0.461 236.25,-0.461 236.25,-0.307 237.5,-0.307 237.5,-0.256 238.75,-0.256 238.75,-0.307 240,-0.307 240,-0.512 241.25,-0.512 241.25,-0.563 242.5,-0.563 242.5,-0.307 243.75,-0.307 243.75,-0.256 245,-0.256 245,-0.154 246.25,-0.154 246.25,-0.205 247.5,-0.205 247.5,-0.358 248.75,-0.358 248.75,-0.256 250,-0.256 250,0\" style=\"fill:none; stroke:currentColor;\"/>\n",
       "</svg>\n",
       "</div>\n",
       "<div style=\"flex=grow:1;\">\n",
       "Regular(200, 0, 2000, label='Axis 0')<br/>\n",
       "<hr style=\"margin-top:.2em; margin-bottom:.2em;\"/>\n",
       "Int64() Σ=99832.0 <em>(100000.0 with flow)</em>\n",
       "\n",
       "</div>\n",
       "</div>\n",
       "</html>"
      ],
      "text/plain": [
       "Hist(Regular(200, 0, 2000, label='Axis 0'), storage=Int64()) # Sum: 99832.0 (100000.0 with flow)"
      ]
     },
     "execution_count": 48,
     "metadata": {},
     "output_type": "execute_result"
    }
   ],
   "source": [
    "mtothisto = hist.Hist.new.Reg(200, 0, 2000).Int64()\n",
    "mtothisto.fill(np.sqrt(FirstTerm-SeconmTerm))"
   ]
  },
  {
   "cell_type": "markdown",
   "id": "efa2a24e",
   "metadata": {},
   "source": [
    "Using missing energy instead of the neutrino"
   ]
  },
  {
   "cell_type": "code",
   "execution_count": 52,
   "id": "44f8e789",
   "metadata": {},
   "outputs": [],
   "source": [
    "def Phi_0_2pi(phiangle):\n",
    "    mask1 = phiangle >= 2*np.pi\n",
    "    mask2 = phiangle < 0\n",
    "    newphiangle = phiangle+(mask1*-2*np.pi)+(mask2*2*np.pi)\n",
    "    return newphiangle"
   ]
  },
  {
   "cell_type": "code",
   "execution_count": 42,
   "id": "a02ca111",
   "metadata": {},
   "outputs": [
    {
     "name": "stdout",
     "output_type": "stream",
     "text": [
      "[391, 486, 516, 254, 205, 428, 54.3, ..., 463, 78.8, 476, 401, 409, 390, 453]\n"
     ]
    }
   ],
   "source": [
    "MET = np.sqrt(np.square((bquark.px + tauvecs.px))+np.square((bquark.py + tauvecs.py)))\n",
    "print(MET)"
   ]
  },
  {
   "cell_type": "code",
   "execution_count": 54,
   "id": "82b28827",
   "metadata": {},
   "outputs": [
    {
     "name": "stdout",
     "output_type": "stream",
     "text": [
      "[5.43, 0.548, 5.97, 5.01, 5.59, 0.582, ..., 0.707, 5.82, 1.54, 4.86, 4.77, 5.08]\n"
     ]
    }
   ],
   "source": [
    "METphi=Phi_0_2pi(np.arctan((bquark.py + tauvecs.py)/(bquark.px + tauvecs.px))+2*np.pi)\n",
    "print(METphi)"
   ]
  },
  {
   "cell_type": "code",
   "execution_count": 55,
   "id": "60edf319",
   "metadata": {},
   "outputs": [
    {
     "data": {
      "text/plain": [
       "0"
      ]
     },
     "execution_count": 55,
     "metadata": {},
     "output_type": "execute_result"
    }
   ],
   "source": [
    "sum(METphi<0)"
   ]
  },
  {
   "cell_type": "code",
   "execution_count": 62,
   "id": "a2b1694c",
   "metadata": {},
   "outputs": [
    {
     "name": "stdout",
     "output_type": "stream",
     "text": [
      "[827, 10, 57.4, 196, 403, 839, 102, ..., 928, 173, 962, 0.184, 792, 777, 11.4]\n"
     ]
    }
   ],
   "source": [
    "mTreco=np.sqrt((2*(events.particles.vector[:, tauind]).pt*(MET)*(1-np.cos(Phi_0_2pi(Phi_0_2pi(events.particles.vector[:, tauind].phi)-METphi)))))\n",
    "print(mTreco)"
   ]
  },
  {
   "cell_type": "code",
   "execution_count": 63,
   "id": "76b95f37",
   "metadata": {},
   "outputs": [
    {
     "data": {
      "text/html": [
       "<html>\n",
       "<div style=\"display:flex; align-items:center;\">\n",
       "<div style=\"width:290px;\">\n",
       "<svg xmlns=\"http://www.w3.org/2000/svg\" viewBox=\"-10 -105 270 120\">\n",
       "<line x1=\"-5\" y1=\"0\" x2=\"255\" y2=\"0\" style=\"fill:none;stroke-width:2;stroke:currentColor\"/>\n",
       "<text text-anchor=\"middle\" x=\"0\" y=\"15\" style=\"fill:currentColor;\">\n",
       "0\n",
       "</text>\n",
       "<text text-anchor=\"middle\" x=\"250\" y=\"15\" style=\"fill:currentColor;\">\n",
       "2e+03\n",
       "</text>\n",
       "<text text-anchor=\"middle\" x=\"125.0\" y=\"15\" style=\"fill:currentColor;\">\n",
       "Axis 0\n",
       "</text>\n",
       "<polyline points=\"  0,0   0,-100 1.25,-100 1.25,-34.7 2.5,-34.7 2.5,-20.3 3.75,-20.3 3.75,-13.3   5,-13.3   5,-10.4 6.25,-10.4 6.25,-8.04 7.5,-8.04 7.5,-6.7 8.75,-6.7 8.75,-5.6  10,-5.6  10,-4.92 11.25,-4.92 11.25,-4.21 12.5,-4.21 12.5,-3.85 13.75,-3.85 13.75,-3.37  15,-3.37  15,-3.05 16.25,-3.05 16.25,-2.98 17.5,-2.98 17.5,-2.79 18.75,-2.79 18.75,-2.57  20,-2.57  20,-2.26 21.25,-2.26 21.25,-2.37 22.5,-2.37 22.5,-2.18 23.75,-2.18 23.75,-2.09  25,-2.09  25,-1.85 26.25,-1.85 26.25,-2.03 27.5,-2.03 27.5,-1.79 28.75,-1.79 28.75,-1.71  30,-1.71  30,-1.79 31.25,-1.79 31.25,-1.82 32.5,-1.82 32.5,-1.63 33.75,-1.63 33.75,-1.6  35,-1.6  35,-1.68 36.25,-1.68 36.25,-1.65 37.5,-1.65 37.5,-1.76 38.75,-1.76 38.75,-1.53  40,-1.53  40,-1.6 41.25,-1.6 41.25,-1.64 42.5,-1.64 42.5,-1.7 43.75,-1.7 43.75,-1.64  45,-1.64  45,-1.42 46.25,-1.42 46.25,-1.58 47.5,-1.58 47.5,-1.65 48.75,-1.65 48.75,-1.61  50,-1.61  50,-1.63 51.25,-1.63 51.25,-1.63 52.5,-1.63 52.5,-1.81 53.75,-1.81 53.75,-1.69  55,-1.69  55,-1.78 56.25,-1.78 56.25,-1.7 57.5,-1.7 57.5,-1.84 58.75,-1.84 58.75,-1.97  60,-1.97  60,-1.75 61.25,-1.75 61.25,-1.88 62.5,-1.88 62.5,-1.88 63.75,-1.88 63.75,-1.85  65,-1.85  65,-1.87 66.25,-1.87 66.25,-1.92 67.5,-1.92 67.5,-1.81 68.75,-1.81 68.75,-1.83  70,-1.83  70,-2.04 71.25,-2.04 71.25,-1.98 72.5,-1.98 72.5,-2.06 73.75,-2.06 73.75,-1.82  75,-1.82  75,-1.89 76.25,-1.89 76.25,-2.02 77.5,-2.02 77.5,-2.18 78.75,-2.18 78.75,-2.12  80,-2.12  80,-2.25 81.25,-2.25 81.25,-2.33 82.5,-2.33 82.5,-2.2 83.75,-2.2 83.75,-2.3  85,-2.3  85,-2.22 86.25,-2.22 86.25,-2.36 87.5,-2.36 87.5,-2.36 88.75,-2.36 88.75,-2.3  90,-2.3  90,-2.48 91.25,-2.48 91.25,-2.54 92.5,-2.54 92.5,-2.33 93.75,-2.33 93.75,-2.63  95,-2.63  95,-2.52 96.25,-2.52 96.25,-2.63 97.5,-2.63 97.5,-2.82 98.75,-2.82 98.75,-2.63 100,-2.63 100,-2.64 101.25,-2.64 101.25,-2.96 102.5,-2.96 102.5,-3 103.75,-3 103.75,-3.03 105,-3.03 105,-2.99 106.25,-2.99 106.25,-3.02 107.5,-3.02 107.5,-2.98 108.75,-2.98 108.75,-3.17 110,-3.17 110,-3.41 111.25,-3.41 111.25,-3.62 112.5,-3.62 112.5,-3.59 113.75,-3.59 113.75,-3.68 115,-3.68 115,-3.97 116.25,-3.97 116.25,-3.89 117.5,-3.89 117.5,-4.57 118.75,-4.57 118.75,-4.51 120,-4.51 120,-5.04 121.25,-5.04 121.25,-4.89 122.5,-4.89 122.5,-4.96 123.75,-4.96 123.75,-4.73 125,-4.73 125,-3.62 126.25,-3.62 126.25,-2.67 127.5,-2.67 127.5,-1.79 128.75,-1.79 128.75,-1.37 130,-1.37 130,-0.782 131.25,-0.782 131.25,-0.69 132.5,-0.69 132.5,-0.535 133.75,-0.535 133.75,-0.433 135,-0.433 135,-0.34 136.25,-0.34 136.25,-0.287 137.5,-0.287 137.5,-0.225 138.75,-0.225 138.75,-0.208 140,-0.208 140,-0.19 141.25,-0.19 141.25,-0.128 142.5,-0.128 142.5,-0.115 143.75,-0.115 143.75,-0.0973 145,-0.0973 145,-0.0575 146.25,-0.0575 146.25,-0.0575 147.5,-0.0575 147.5,-0.0398 148.75,-0.0398 148.75,-0.0663 150,-0.0663 150,-0.0796 151.25,-0.0796 151.25,-0.0177 152.5,-0.0177 152.5,-0.0619 153.75,-0.0619 153.75,-0.0442 155,-0.0442 155,-0.0354 156.25,-0.0354 156.25,-0.0177 157.5,-0.0177 157.5,-0.0177 158.75,-0.0177 158.75,-0.0531 160,-0.0531 160,-0.0265 161.25,-0.0265 161.25,-0.0177 162.5,-0.0177 162.5,-0.00442 163.75,-0.00442 163.75,-0.0265 165,-0.0265 165,-0.0177 166.25,-0.0177 166.25,-0.00884 167.5,-0.00884 167.5,-0.0265 168.75,-0.0265 168.75,-0.00442 170,-0.00442 170,-0.0265 171.25,-0.0265 171.25,-0.00884 172.5,-0.00884 172.5,-0.00884 173.75,-0.00884 173.75,-0.00442 175,-0.00442 175,-0.00884 176.25,-0.00884 176.25,-0.00884 177.5,-0.00884 177.5,-0.00442 178.75,-0.00442 178.75,-0.00442 180,-0.00442 180,-0.00442 181.25,-0.00442 181.25,-0 182.5,-0 182.5,-0.00442 183.75,-0.00442 183.75,-0 185,-0 185,-0 186.25,-0 186.25,-0 187.5,-0 187.5,-0.0133 188.75,-0.0133 188.75,-0.00442 190,-0.00442 190,-0 191.25,-0 191.25,-0 192.5,-0 192.5,-0.00442 193.75,-0.00442 193.75,-0 195,-0 195,-0.00442 196.25,-0.00442 196.25,-0.00442 197.5,-0.00442 197.5,-0 198.75,-0 198.75,-0 200,-0 200,-0.00442 201.25,-0.00442 201.25,-0 202.5,-0 202.5,-0.0133 203.75,-0.0133 203.75,-0 205,-0 205,-0 206.25,-0 206.25,-0 207.5,-0 207.5,-0.00442 208.75,-0.00442 208.75,-0 210,-0 210,-0.00442 211.25,-0.00442 211.25,-0 212.5,-0 212.5,-0.00442 213.75,-0.00442 213.75,-0.00442 215,-0.00442 215,-0 216.25,-0 216.25,-0.00442 217.5,-0.00442 217.5,-0 218.75,-0 218.75,-0 220,-0 220,-0 221.25,-0 221.25,-0 222.5,-0 222.5,-0 223.75,-0 223.75,-0 225,-0 225,-0.00442 226.25,-0.00442 226.25,-0 227.5,-0 227.5,-0 228.75,-0 228.75,-0 230,-0 230,-0 231.25,-0 231.25,-0 232.5,-0 232.5,-0 233.75,-0 233.75,-0 235,-0 235,-0 236.25,-0 236.25,-0 237.5,-0 237.5,-0.00442 238.75,-0.00442 238.75,-0 240,-0 240,-0 241.25,-0 241.25,-0 242.5,-0 242.5,-0 243.75,-0 243.75,-0 245,-0 245,-0 246.25,-0 246.25,-0 247.5,-0 247.5,-0 248.75,-0 248.75,-0 250,-0 250,0\" style=\"fill:none; stroke:currentColor;\"/>\n",
       "</svg>\n",
       "</div>\n",
       "<div style=\"flex=grow:1;\">\n",
       "Regular(200, 0, 2000, label='Axis 0')<br/>\n",
       "<hr style=\"margin-top:.2em; margin-bottom:.2em;\"/>\n",
       "Int64() Σ=99999.0 <em>(100000.0 with flow)</em>\n",
       "\n",
       "</div>\n",
       "</div>\n",
       "</html>"
      ],
      "text/plain": [
       "Hist(Regular(200, 0, 2000, label='Axis 0'), storage=Int64()) # Sum: 99999.0 (100000.0 with flow)"
      ]
     },
     "execution_count": 63,
     "metadata": {},
     "output_type": "execute_result"
    }
   ],
   "source": [
    "mtrecohisto = hist.Hist.new.Reg(200, 0, 2000).Int64()\n",
    "mtrecohisto.fill(mTreco)"
   ]
  },
  {
   "cell_type": "code",
   "execution_count": 68,
   "id": "b762ee1f",
   "metadata": {},
   "outputs": [],
   "source": [
    "FirstTermMET=np.square(tauvecs.pt+bquark.pt+MET)\n",
    "SeconmTermMET=np.square(tauvecs.px+bquark.px+MET*np.cos(METphi))+np.square(tauvecs.py+bquark.py+MET*np.sin(METphi))"
   ]
  },
  {
   "cell_type": "code",
   "execution_count": 69,
   "id": "8eb7bddd",
   "metadata": {},
   "outputs": [
    {
     "data": {
      "text/html": [
       "<html>\n",
       "<div style=\"display:flex; align-items:center;\">\n",
       "<div style=\"width:290px;\">\n",
       "<svg xmlns=\"http://www.w3.org/2000/svg\" viewBox=\"-10 -105 270 120\">\n",
       "<line x1=\"-5\" y1=\"0\" x2=\"255\" y2=\"0\" style=\"fill:none;stroke-width:2;stroke:currentColor\"/>\n",
       "<text text-anchor=\"middle\" x=\"0\" y=\"15\" style=\"fill:currentColor;\">\n",
       "0\n",
       "</text>\n",
       "<text text-anchor=\"middle\" x=\"250\" y=\"15\" style=\"fill:currentColor;\">\n",
       "2e+03\n",
       "</text>\n",
       "<text text-anchor=\"middle\" x=\"125.0\" y=\"15\" style=\"fill:currentColor;\">\n",
       "Axis 0\n",
       "</text>\n",
       "<polyline points=\"  0,0   0,-85.9 1.25,-85.9 1.25,-92.6 2.5,-92.6 2.5,-90.3 3.75,-90.3 3.75,-92.6   5,-92.6   5,-100 6.25,-100 6.25,-99.1 7.5,-99.1 7.5,-98.5 8.75,-98.5 8.75,-92.9  10,-92.9  10,-92.9 11.25,-92.9 11.25,-90.2 12.5,-90.2 12.5,-83 13.75,-83 13.75,-78.8  15,-78.8  15,-75.3 16.25,-75.3 16.25,-73.3 17.5,-73.3 17.5,-66.8 18.75,-66.8 18.75,-63.6  20,-63.6  20,-57.3 21.25,-57.3 21.25,-56.4 22.5,-56.4 22.5,-55.7 23.75,-55.7 23.75,-52.1  25,-52.1  25,-50.6 26.25,-50.6 26.25,-48.4 27.5,-48.4 27.5,-44.8 28.75,-44.8 28.75,-43.1  30,-43.1  30,-40.3 31.25,-40.3 31.25,-38.8 32.5,-38.8 32.5,-37.9 33.75,-37.9 33.75,-36.6  35,-36.6  35,-33 36.25,-33 36.25,-35.4 37.5,-35.4 37.5,-34.1 38.75,-34.1 38.75,-32.8  40,-32.8  40,-31.9 41.25,-31.9 41.25,-32 42.5,-32 42.5,-29.1 43.75,-29.1 43.75,-29.8  45,-29.8  45,-28.4 46.25,-28.4 46.25,-27.5 47.5,-27.5 47.5,-26.6 48.75,-26.6 48.75,-28.3  50,-28.3  50,-26.7 51.25,-26.7 51.25,-26.4 52.5,-26.4 52.5,-27.3 53.75,-27.3 53.75,-24.7  55,-24.7  55,-25 56.25,-25 56.25,-26.6 57.5,-26.6 57.5,-26 58.75,-26 58.75,-25.4  60,-25.4  60,-25.6 61.25,-25.6 61.25,-24 62.5,-24 62.5,-26 63.75,-26 63.75,-24.5  65,-24.5  65,-24.5 66.25,-24.5 66.25,-22.7 67.5,-22.7 67.5,-25.2 68.75,-25.2 68.75,-25.5  70,-25.5  70,-24.3 71.25,-24.3 71.25,-24.7 72.5,-24.7 72.5,-24.6 73.75,-24.6 73.75,-23.8  75,-23.8  75,-23.2 76.25,-23.2 76.25,-23.5 77.5,-23.5 77.5,-24.3 78.75,-24.3 78.75,-23.8  80,-23.8  80,-24.4 81.25,-24.4 81.25,-24.1 82.5,-24.1 82.5,-25.9 83.75,-25.9 83.75,-24.2  85,-24.2  85,-24.2 86.25,-24.2 86.25,-24.3 87.5,-24.3 87.5,-24.6 88.75,-24.6 88.75,-26.3  90,-26.3  90,-25.7 91.25,-25.7 91.25,-27.8 92.5,-27.8 92.5,-25.2 93.75,-25.2 93.75,-26.7  95,-26.7  95,-27.3 96.25,-27.3 96.25,-27.1 97.5,-27.1 97.5,-24.8 98.75,-24.8 98.75,-25.8 100,-25.8 100,-27.7 101.25,-27.7 101.25,-28.6 102.5,-28.6 102.5,-29.9 103.75,-29.9 103.75,-29.5 105,-29.5 105,-29.6 106.25,-29.6 106.25,-31.5 107.5,-31.5 107.5,-27.4 108.75,-27.4 108.75,-29.4 110,-29.4 110,-31.7 111.25,-31.7 111.25,-29.5 112.5,-29.5 112.5,-31.6 113.75,-31.6 113.75,-32.8 115,-32.8 115,-33.6 116.25,-33.6 116.25,-34.9 117.5,-34.9 117.5,-36 118.75,-36 118.75,-40 120,-40 120,-39.7 121.25,-39.7 121.25,-44.2 122.5,-44.2 122.5,-44.6 123.75,-44.6 123.75,-43.4 125,-43.4 125,-42.2 126.25,-42.2 126.25,-38 127.5,-38 127.5,-32 128.75,-32 128.75,-29.6 130,-29.6 130,-23.7 131.25,-23.7 131.25,-22.8 132.5,-22.8 132.5,-19.9 133.75,-19.9 133.75,-16.4 135,-16.4 135,-14.7 136.25,-14.7 136.25,-12.6 137.5,-12.6 137.5,-11.6 138.75,-11.6 138.75,-12.3 140,-12.3 140,-11 141.25,-11 141.25,-8.6 142.5,-8.6 142.5,-9.05 143.75,-9.05 143.75,-8.34 145,-8.34 145,-8.34 146.25,-8.34 146.25,-7.36 147.5,-7.36 147.5,-5.59 148.75,-5.59 148.75,-5.45 150,-5.45 150,-5.06 151.25,-5.06 151.25,-4.75 152.5,-4.75 152.5,-5.1 153.75,-5.1 153.75,-4.97 155,-4.97 155,-3.81 156.25,-3.81 156.25,-3.9 157.5,-3.9 157.5,-3.73 158.75,-3.73 158.75,-3.19 160,-3.19 160,-3.86 161.25,-3.86 161.25,-3.37 162.5,-3.37 162.5,-2.62 163.75,-2.62 163.75,-2.31 165,-2.31 165,-2.44 166.25,-2.44 166.25,-2.75 167.5,-2.75 167.5,-2.79 168.75,-2.79 168.75,-1.95 170,-1.95 170,-2.48 171.25,-2.48 171.25,-1.77 172.5,-1.77 172.5,-1.86 173.75,-1.86 173.75,-2.04 175,-2.04 175,-1.06 176.25,-1.06 176.25,-1.73 177.5,-1.73 177.5,-1.46 178.75,-1.46 178.75,-1.91 180,-1.91 180,-1.69 181.25,-1.69 181.25,-1.55 182.5,-1.55 182.5,-1.15 183.75,-1.15 183.75,-1.33 185,-1.33 185,-1.51 186.25,-1.51 186.25,-0.976 187.5,-0.976 187.5,-1.24 188.75,-1.24 188.75,-1.11 190,-1.11 190,-1.15 191.25,-1.15 191.25,-1.11 192.5,-1.11 192.5,-1.02 193.75,-1.02 193.75,-0.931 195,-0.931 195,-0.665 196.25,-0.665 196.25,-1.15 197.5,-1.15 197.5,-0.488 198.75,-0.488 198.75,-0.532 200,-0.532 200,-0.532 201.25,-0.532 201.25,-0.976 202.5,-0.976 202.5,-0.31 203.75,-0.31 203.75,-0.532 205,-0.532 205,-0.621 206.25,-0.621 206.25,-0.754 207.5,-0.754 207.5,-0.754 208.75,-0.754 208.75,-0.443 210,-0.443 210,-0.576 211.25,-0.576 211.25,-0.31 212.5,-0.31 212.5,-0.443 213.75,-0.443 213.75,-0.399 215,-0.399 215,-0.31 216.25,-0.31 216.25,-0.266 217.5,-0.266 217.5,-0.31 218.75,-0.31 218.75,-0.31 220,-0.31 220,-0.266 221.25,-0.266 221.25,-0.266 222.5,-0.266 222.5,-0.222 223.75,-0.222 223.75,-0.399 225,-0.399 225,-0.31 226.25,-0.31 226.25,-0.177 227.5,-0.177 227.5,-0.266 228.75,-0.266 228.75,-0.222 230,-0.222 230,-0.266 231.25,-0.266 231.25,-0.31 232.5,-0.31 232.5,-0.266 233.75,-0.266 233.75,-0.222 235,-0.222 235,-0.133 236.25,-0.133 236.25,-0.133 237.5,-0.133 237.5,-0.133 238.75,-0.133 238.75,-0.0887 240,-0.0887 240,-0.399 241.25,-0.399 241.25,-0.177 242.5,-0.177 242.5,-0.222 243.75,-0.222 243.75,-0.222 245,-0.222 245,-0.0443 246.25,-0.0443 246.25,-0.0443 247.5,-0.0443 247.5,-0.133 248.75,-0.133 248.75,-0.133 250,-0.133 250,0\" style=\"fill:none; stroke:currentColor;\"/>\n",
       "</svg>\n",
       "</div>\n",
       "<div style=\"flex=grow:1;\">\n",
       "Regular(200, 0, 2000, label='Axis 0')<br/>\n",
       "<hr style=\"margin-top:.2em; margin-bottom:.2em;\"/>\n",
       "Int64() Σ=99898.0 <em>(100000.0 with flow)</em>\n",
       "\n",
       "</div>\n",
       "</div>\n",
       "</html>"
      ],
      "text/plain": [
       "Hist(Regular(200, 0, 2000, label='Axis 0'), storage=Int64()) # Sum: 99898.0 (100000.0 with flow)"
      ]
     },
     "execution_count": 69,
     "metadata": {},
     "output_type": "execute_result"
    }
   ],
   "source": [
    "mtotMEThisto = hist.Hist.new.Reg(200, 0, 2000).Int64()\n",
    "mtotMEThisto.fill(np.sqrt(FirstTermMET-SeconmTermMET))"
   ]
  },
  {
   "cell_type": "code",
   "execution_count": null,
   "id": "64dd5eed",
   "metadata": {},
   "outputs": [],
   "source": []
  }
 ],
 "metadata": {
  "kernelspec": {
   "display_name": "Python 3 (ipykernel)",
   "language": "python",
   "name": "python3"
  },
  "language_info": {
   "codemirror_mode": {
    "name": "ipython",
    "version": 3
   },
   "file_extension": ".py",
   "mimetype": "text/x-python",
   "name": "python",
   "nbconvert_exporter": "python",
   "pygments_lexer": "ipython3",
   "version": "3.10.12"
  }
 },
 "nbformat": 4,
 "nbformat_minor": 5
}
